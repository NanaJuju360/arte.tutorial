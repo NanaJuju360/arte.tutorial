{
  "nbformat": 4,
  "nbformat_minor": 0,
  "metadata": {
    "colab": {
      "provenance": [],
      "authorship_tag": "ABX9TyPVf/HA3HMySonELxxwgfJC",
      "include_colab_link": true
    },
    "kernelspec": {
      "name": "python3",
      "display_name": "Python 3"
    },
    "language_info": {
      "name": "python"
    }
  },
  "cells": [
    {
      "cell_type": "markdown",
      "metadata": {
        "id": "view-in-github",
        "colab_type": "text"
      },
      "source": [
        "<a href=\"https://colab.research.google.com/github/NanaJuju360/arte.tutorial/blob/main/Avalia%C3%A7%C3%A3o.ipynb\" target=\"_parent\"><img src=\"https://colab.research.google.com/assets/colab-badge.svg\" alt=\"Open In Colab\"/></a>"
      ]
    },
    {
      "cell_type": "code",
      "execution_count": null,
      "metadata": {
        "id": "g1zF4fFau5s-"
      },
      "outputs": [],
      "source": [
        "nome = input(\"digite teu nome:\")\n",
        "\n",
        "print(f\"Olá, {nome}! Qual é a sua dúvida, caro estudante?\")\n",
        "\n",
        "resposta = input(\"Escolha um assunto: Inglês, Matemática, História, Português?\").strip().lower()\n",
        "\n",
        "if resposta == \"inglês\":\n",
        "  print(\"Tranquilo, vamos falar sobre Inglês! Essa língua é muito importante!\")\n",
        "elif resposta == \"matemática\":\n",
        "  print(\"Vamos resolver algumas questões então!\")\n",
        "elif resposta == \"história\":\n",
        "  print(\"Quer saber o histórico!\")\n",
        "elif resposta == \"português\":\n",
        "  print(\"Tranquilo, vamos falar sobre Português! Você sabia que é considerado uma língua muito rica e complexa?\")\n",
        "else:\n",
        "  print(\"Vou ficar devendo, estudante! Não entendi sua pergunta!\")"
      ]
    },
    {
      "cell_type": "code",
      "source": [
        "nome = input(\"digite teu nome:\")\n",
        "\n",
        "print(f\"Olá, {nome}! O que você quer saber?\")\n",
        "\n",
        "resposta = input(\"Escolha um assunto: Esporte, Culinária, Futebol, Famosos, Profissões, Saúde, Atualidade?\").strip().lower()\n",
        "\n",
        "if resposta == \"esporte\":\n",
        "  print(\"cada uma das atividades físicas desenvolvidas por uma pessoa ou um grupo, com regularidade ou não, com o fim de recreação ou competição\")\n",
        "elif resposta == \"culinária\":\n",
        "  print(\"é a arte de cozinhar, preparar alimentos e, por extensão, o conjunto de técnicas e receitas de uma região ou povo, sendo parte da gastronomia, que é mais abrangente\")\n",
        "elif resposta == \"futebol\":\n",
        "  print(\"é um desporto de equipe jogado entre dois times de 11 jogadores cada um e um árbitro que se ocupa da correta aplicação das normas\")\n",
        "elif resposta == \"famosos\":\n",
        "  print(\"algo ou alguém que tem fama, sendo célebre, renomado e amplamente conhecido pelo grande públic\")\n",
        "elif resposta == \"profissões\":\n",
        "  print(\"tividade especializada, que exige conhecimento e preparo específicos, e é exercida em troca de uma recompensa financeira\")\n",
        "elif resposta == \" saúde\":\n",
        "  print(\"estado de completo bem-estar físico, mental e social, e não apenas a ausência de doenças\")\n",
        "elif resposta == \"atualidade\":\n",
        "  print(\"o tempo presente, referindo-se ao momento em que vivemos agora\")\n",
        "else:\n",
        "  print(\"Vou ficar devendo, estudande! Não entendi sua pergunta!\")"
      ],
      "metadata": {
        "id": "prSnpafZyqhE"
      },
      "execution_count": null,
      "outputs": []
    }
  ]
}