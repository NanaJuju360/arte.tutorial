{
  "nbformat": 4,
  "nbformat_minor": 0,
  "metadata": {
    "colab": {
      "provenance": [],
      "authorship_tag": "ABX9TyOM1ozxpP3wy9sIJbku+nCx",
      "include_colab_link": true
    },
    "kernelspec": {
      "name": "python3",
      "display_name": "Python 3"
    },
    "language_info": {
      "name": "python"
    }
  },
  "cells": [
    {
      "cell_type": "markdown",
      "metadata": {
        "id": "view-in-github",
        "colab_type": "text"
      },
      "source": [
        "<a href=\"https://colab.research.google.com/github/NanaJuju360/arte.tutorial/blob/main/Avalia%C3%A7%C3%A3o.ipynb\" target=\"_parent\"><img src=\"https://colab.research.google.com/assets/colab-badge.svg\" alt=\"Open In Colab\"/></a>"
      ]
    },
    {
      "cell_type": "code",
      "execution_count": null,
      "metadata": {
        "id": "g1zF4fFau5s-"
      },
      "outputs": [],
      "source": [
        "nome = input(\"digite teu nome: \")\n",
        "\n",
        "print(f\"Olá, {nome}! Qual é a sua dúvida, caro estudante?\")\n",
        "\n",
        "resposta = input(\"Escolha um assunto: Inglês, Matemática, História, Português? \").strip().lower()\n",
        "if resposta == \"inglês\"\n",
        "\n",
        "  print(\"Tranquilo, vamos falar sobre Inglês! Essa língua é muito importante!\")\n",
        "elif resposta == \"matemática\":\n",
        "  print(\"Vamos resolver algumas questões então!\")\n",
        "elif resposta == \"história\":\n",
        "  print(\"Quer saber o histórico!\")\n",
        "elif resposta == \"português\":\n",
        "  print(\"Tranquilo, vamos falar sobre Português! Você sabia que é considerado uma língua muito rica e complexa?\")\n",
        "else:\n",
        "  print(\"Vou ficar devendo, estudante! Não entendi sua pergunta!\")"
      ]
    },
    {
      "cell_type": "code",
      "source": [],
      "metadata": {
        "id": "prSnpafZyqhE"
      },
      "execution_count": null,
      "outputs": []
    }
  ]
}