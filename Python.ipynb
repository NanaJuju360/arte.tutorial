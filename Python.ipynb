{
  "nbformat": 4,
  "nbformat_minor": 0,
  "metadata": {
    "colab": {
      "provenance": [],
      "include_colab_link": true
    },
    "kernelspec": {
      "name": "python3",
      "display_name": "Python 3"
    },
    "language_info": {
      "name": "python"
    }
  },
  "cells": [
    {
      "cell_type": "markdown",
      "metadata": {
        "id": "view-in-github",
        "colab_type": "text"
      },
      "source": [
        "<a href=\"https://colab.research.google.com/github/NanaJuju360/arte.tutorial/blob/main/Python.ipynb\" target=\"_parent\"><img src=\"https://colab.research.google.com/assets/colab-badge.svg\" alt=\"Open In Colab\"/></a>"
      ]
    },
    {
      "cell_type": "markdown",
      "source": [
        "## Aula 1"
      ],
      "metadata": {
        "id": "_1y4PPgxWkyn"
      }
    },
    {
      "cell_type": "code",
      "execution_count": 4,
      "metadata": {
        "id": "0xQLZTkDQ0iK",
        "colab": {
          "base_uri": "https://localhost:8080/"
        },
        "outputId": "4c0ebf8e-e753-49b4-f32e-22c6d93bbc30"
      },
      "outputs": [
        {
          "output_type": "stream",
          "name": "stdout",
          "text": [
            "I competição de Programação a Start\n"
          ]
        }
      ],
      "source": [
        "print(\"I competição de Programação a Start\")"
      ]
    },
    {
      "cell_type": "code",
      "source": [
        "ano = \"II\"\n",
        "\n",
        "print(ano, \"Competição de Programação da Start\")"
      ],
      "metadata": {
        "colab": {
          "base_uri": "https://localhost:8080/"
        },
        "id": "h7B-chKMVuDD",
        "outputId": "6f2a1a32-d004-451f-d7bb-2f6d947fb83c"
      },
      "execution_count": 2,
      "outputs": [
        {
          "output_type": "stream",
          "name": "stdout",
          "text": [
            "II Competição de Programação da Start\n"
          ]
        }
      ]
    },
    {
      "cell_type": "code",
      "source": [
        "print(f\"{ano} Competição de Programação da Start\")"
      ],
      "metadata": {
        "colab": {
          "base_uri": "https://localhost:8080/"
        },
        "id": "1h0fI99pWDtU",
        "outputId": "75f49865-61dd-4fc6-a341-0547771f64f3"
      },
      "execution_count": 3,
      "outputs": [
        {
          "output_type": "stream",
          "name": "stdout",
          "text": [
            "II Competição de Programação da Start\n"
          ]
        }
      ]
    },
    {
      "cell_type": "markdown",
      "source": [
        "## Aula 2"
      ],
      "metadata": {
        "id": "1zSgAxJBWuGP"
      }
    },
    {
      "cell_type": "markdown",
      "source": [
        "Contexto:\n",
        "\n",
        "Uma scola está promovendo uma campanha e incentivo à leitura, em que cada estudande recebe pontos aos concluir livros. Esses pontos podem ser trocadas por premios da escola. As categoria de livros tem valores de pontos diferentes:\n",
        "\n",
        "\n",
        "\n",
        "*   Livro de ficção; 10 pontos\n",
        "*   Livro de não-ficção: 8 pontos\n",
        "*   Livro infantil: 6 pontos\n",
        "\n",
        "**Problema:**\n",
        "\n",
        "Rodrigo leu um livro de cada categoria. Agora ele quer saber quantos pontos acumulou com sua leitura.\n",
        "\n",
        "Nosso objetvo é criar um programa em Python que:\n",
        "\n",
        "*  Armazene a pontuação e caa categoria de livro em uma variável.\n",
        "*   Calcule o total de pontos acumulado por Rodrigo.\n",
        "*   Mostre na tela de pontos acumulado por Rodrigo.\n",
        "\n",
        "\n",
        "\n"
      ],
      "metadata": {
        "id": "lsaaCU6IWw_m"
      }
    },
    {
      "cell_type": "code",
      "source": [
        "livro_ficcao = 10\n",
        "livro_nficcao = 8\n",
        "livro_infantil = 6\n",
        "\n",
        "pontos_rodrigo = livro_ficcao + livro_nficcao + livro_infantil\n",
        "\n",
        "print(f\"Os pontos totais do Rodrigo são: {pontos_rodrigo}\")"
      ],
      "metadata": {
        "colab": {
          "base_uri": "https://localhost:8080/"
        },
        "id": "Bw_Q6cAMZV16",
        "outputId": "ea4ae714-f1be-4fda-ec3f-a9d158e46fd4"
      },
      "execution_count": 6,
      "outputs": [
        {
          "output_type": "stream",
          "name": "stdout",
          "text": [
            "Os pontos totais do Rodrigo são: 24\n"
          ]
        }
      ]
    },
    {
      "cell_type": "markdown",
      "source": [
        "Ana também participou da campanha e leu 2 livros de ficção e 5 livro infantis.\n",
        "\n",
        "Como podemos calcular o total de pontos e Ana? Será que é possível calcular o total de pontos acumulados por Rodrigo e Ana juntos?"
      ],
      "metadata": {
        "id": "KTSaCjCvbDvj"
      }
    }
  ]
}